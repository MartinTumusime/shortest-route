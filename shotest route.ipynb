{
 "cells": [
  {
   "cell_type": "code",
   "execution_count": 6,
   "metadata": {},
   "outputs": [],
   "source": [
    "#Put your apikey in txt file and call it using this method\n",
    "\n",
    "with open('apikey.txt') as f:\n",
    "    apikey = f.readline()\n",
    "    f.close"
   ]
  },
  {
   "cell_type": "code",
   "execution_count": 7,
   "metadata": {},
   "outputs": [
    {
     "data": {
      "application/vnd.jupyter.widget-view+json": {
       "model_id": "3ecd74a9bfce4867a6b94c6f4225e9bd",
       "version_major": 2,
       "version_minor": 0
      },
      "text/plain": [
       "Figure(layout=FigureLayout(height='420px'))"
      ]
     },
     "metadata": {},
     "output_type": "display_data"
    }
   ],
   "source": [
    "import gmaps\n",
    "from datetime import datetime\n",
    "now = datetime.now()\n",
    "\n",
    "start =(0.3302,32.5737) #this is our start address\n",
    "end = (0.3302,32.5737) #my start address is same as end address\n",
    "\n",
    "#the addresses my route has to move through\n",
    "waypoints = [(0.332186,32.570529),(0.333551,32.570625),(0.331071,32.574760),(0.338699,32.561229)]\n",
    "\n",
    "\n",
    "#configure api\n",
    "gmaps.configure(api_key=apikey)\n",
    "\n",
    "#Create the map\n",
    "fig = gmaps.figure()\n",
    "#create the layer\n",
    "layer = gmaps.directions.Directions(start, end,waypoints = waypoints,optimize_waypoints=True,\n",
    "                                    mode='car',api_key=apikey,departure_time = now)\n",
    "#Add the layer\n",
    "fig.add_layer(layer)\n",
    "fig.add_layer(gmaps.traffic_layer())\n",
    "fig"
   ]
  },
  {
   "cell_type": "code",
   "execution_count": null,
   "metadata": {},
   "outputs": [],
   "source": []
  }
 ],
 "metadata": {
  "kernelspec": {
   "display_name": "Python 3",
   "language": "python",
   "name": "python3"
  },
  "language_info": {
   "codemirror_mode": {
    "name": "ipython",
    "version": 3
   },
   "file_extension": ".py",
   "mimetype": "text/x-python",
   "name": "python",
   "nbconvert_exporter": "python",
   "pygments_lexer": "ipython3",
   "version": "3.7.6"
  }
 },
 "nbformat": 4,
 "nbformat_minor": 4
}
